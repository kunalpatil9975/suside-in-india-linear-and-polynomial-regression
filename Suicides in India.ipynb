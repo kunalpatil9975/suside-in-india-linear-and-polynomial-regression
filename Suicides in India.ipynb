{
 "cells": [
  {
   "cell_type": "markdown",
   "id": "c4d81788",
   "metadata": {},
   "source": [
    "### import library"
   ]
  },
  {
   "cell_type": "code",
   "execution_count": 1,
   "id": "12ab8af4",
   "metadata": {},
   "outputs": [],
   "source": [
    "import pandas as pd\n",
    "import numpy as np\n",
    "import matplotlib.pyplot as plt"
   ]
  },
  {
   "cell_type": "code",
   "execution_count": 2,
   "id": "62936d71",
   "metadata": {},
   "outputs": [],
   "source": [
    "df = pd.read_csv('D:/PROJECT/suside in india/suicide.csv')"
   ]
  },
  {
   "cell_type": "code",
   "execution_count": 3,
   "id": "47e0608b",
   "metadata": {},
   "outputs": [
    {
     "data": {
      "text/html": [
       "<div>\n",
       "<style scoped>\n",
       "    .dataframe tbody tr th:only-of-type {\n",
       "        vertical-align: middle;\n",
       "    }\n",
       "\n",
       "    .dataframe tbody tr th {\n",
       "        vertical-align: top;\n",
       "    }\n",
       "\n",
       "    .dataframe thead th {\n",
       "        text-align: right;\n",
       "    }\n",
       "</style>\n",
       "<table border=\"1\" class=\"dataframe\">\n",
       "  <thead>\n",
       "    <tr style=\"text-align: right;\">\n",
       "      <th></th>\n",
       "      <th>State</th>\n",
       "      <th>Year</th>\n",
       "      <th>Type_code</th>\n",
       "      <th>Type</th>\n",
       "      <th>Gender</th>\n",
       "      <th>Age_group</th>\n",
       "      <th>Total</th>\n",
       "    </tr>\n",
       "  </thead>\n",
       "  <tbody>\n",
       "    <tr>\n",
       "      <th>0</th>\n",
       "      <td>A &amp; N Islands</td>\n",
       "      <td>2001</td>\n",
       "      <td>Causes</td>\n",
       "      <td>Illness (Aids/STD)</td>\n",
       "      <td>Female</td>\n",
       "      <td>0-14</td>\n",
       "      <td>0</td>\n",
       "    </tr>\n",
       "    <tr>\n",
       "      <th>1</th>\n",
       "      <td>A &amp; N Islands</td>\n",
       "      <td>2001</td>\n",
       "      <td>Causes</td>\n",
       "      <td>Bankruptcy or Sudden change in Economic</td>\n",
       "      <td>Female</td>\n",
       "      <td>0-14</td>\n",
       "      <td>0</td>\n",
       "    </tr>\n",
       "    <tr>\n",
       "      <th>2</th>\n",
       "      <td>A &amp; N Islands</td>\n",
       "      <td>2001</td>\n",
       "      <td>Causes</td>\n",
       "      <td>Cancellation/Non-Settlement of Marriage</td>\n",
       "      <td>Female</td>\n",
       "      <td>0-14</td>\n",
       "      <td>0</td>\n",
       "    </tr>\n",
       "    <tr>\n",
       "      <th>3</th>\n",
       "      <td>A &amp; N Islands</td>\n",
       "      <td>2001</td>\n",
       "      <td>Causes</td>\n",
       "      <td>Physical Abuse (Rape/Incest Etc.)</td>\n",
       "      <td>Female</td>\n",
       "      <td>0-14</td>\n",
       "      <td>0</td>\n",
       "    </tr>\n",
       "    <tr>\n",
       "      <th>4</th>\n",
       "      <td>A &amp; N Islands</td>\n",
       "      <td>2001</td>\n",
       "      <td>Causes</td>\n",
       "      <td>Dowry Dispute</td>\n",
       "      <td>Female</td>\n",
       "      <td>0-14</td>\n",
       "      <td>0</td>\n",
       "    </tr>\n",
       "    <tr>\n",
       "      <th>...</th>\n",
       "      <td>...</td>\n",
       "      <td>...</td>\n",
       "      <td>...</td>\n",
       "      <td>...</td>\n",
       "      <td>...</td>\n",
       "      <td>...</td>\n",
       "      <td>...</td>\n",
       "    </tr>\n",
       "    <tr>\n",
       "      <th>237514</th>\n",
       "      <td>West Bengal</td>\n",
       "      <td>2012</td>\n",
       "      <td>Social_Status</td>\n",
       "      <td>Seperated</td>\n",
       "      <td>Male</td>\n",
       "      <td>0-100+</td>\n",
       "      <td>149</td>\n",
       "    </tr>\n",
       "    <tr>\n",
       "      <th>237515</th>\n",
       "      <td>West Bengal</td>\n",
       "      <td>2012</td>\n",
       "      <td>Social_Status</td>\n",
       "      <td>Widowed/Widower</td>\n",
       "      <td>Male</td>\n",
       "      <td>0-100+</td>\n",
       "      <td>233</td>\n",
       "    </tr>\n",
       "    <tr>\n",
       "      <th>237516</th>\n",
       "      <td>West Bengal</td>\n",
       "      <td>2012</td>\n",
       "      <td>Social_Status</td>\n",
       "      <td>Married</td>\n",
       "      <td>Male</td>\n",
       "      <td>0-100+</td>\n",
       "      <td>5451</td>\n",
       "    </tr>\n",
       "    <tr>\n",
       "      <th>237517</th>\n",
       "      <td>West Bengal</td>\n",
       "      <td>2012</td>\n",
       "      <td>Social_Status</td>\n",
       "      <td>Divorcee</td>\n",
       "      <td>Male</td>\n",
       "      <td>0-100+</td>\n",
       "      <td>189</td>\n",
       "    </tr>\n",
       "    <tr>\n",
       "      <th>237518</th>\n",
       "      <td>West Bengal</td>\n",
       "      <td>2012</td>\n",
       "      <td>Social_Status</td>\n",
       "      <td>Never Married</td>\n",
       "      <td>Male</td>\n",
       "      <td>0-100+</td>\n",
       "      <td>2658</td>\n",
       "    </tr>\n",
       "  </tbody>\n",
       "</table>\n",
       "<p>237519 rows × 7 columns</p>\n",
       "</div>"
      ],
      "text/plain": [
       "                State  Year      Type_code  \\\n",
       "0       A & N Islands  2001         Causes   \n",
       "1       A & N Islands  2001         Causes   \n",
       "2       A & N Islands  2001         Causes   \n",
       "3       A & N Islands  2001         Causes   \n",
       "4       A & N Islands  2001         Causes   \n",
       "...               ...   ...            ...   \n",
       "237514    West Bengal  2012  Social_Status   \n",
       "237515    West Bengal  2012  Social_Status   \n",
       "237516    West Bengal  2012  Social_Status   \n",
       "237517    West Bengal  2012  Social_Status   \n",
       "237518    West Bengal  2012  Social_Status   \n",
       "\n",
       "                                           Type  Gender Age_group  Total  \n",
       "0                            Illness (Aids/STD)  Female      0-14      0  \n",
       "1       Bankruptcy or Sudden change in Economic  Female      0-14      0  \n",
       "2       Cancellation/Non-Settlement of Marriage  Female      0-14      0  \n",
       "3             Physical Abuse (Rape/Incest Etc.)  Female      0-14      0  \n",
       "4                                 Dowry Dispute  Female      0-14      0  \n",
       "...                                         ...     ...       ...    ...  \n",
       "237514                                Seperated    Male    0-100+    149  \n",
       "237515                          Widowed/Widower    Male    0-100+    233  \n",
       "237516                                  Married    Male    0-100+   5451  \n",
       "237517                                 Divorcee    Male    0-100+    189  \n",
       "237518                            Never Married    Male    0-100+   2658  \n",
       "\n",
       "[237519 rows x 7 columns]"
      ]
     },
     "execution_count": 3,
     "metadata": {},
     "output_type": "execute_result"
    }
   ],
   "source": [
    "df"
   ]
  },
  {
   "cell_type": "code",
   "execution_count": 4,
   "id": "139c9823",
   "metadata": {},
   "outputs": [
    {
     "data": {
      "text/plain": [
       "(237519, 7)"
      ]
     },
     "execution_count": 4,
     "metadata": {},
     "output_type": "execute_result"
    }
   ],
   "source": [
    "df.shape"
   ]
  },
  {
   "cell_type": "code",
   "execution_count": 5,
   "id": "e88a34e6",
   "metadata": {},
   "outputs": [
    {
     "name": "stdout",
     "output_type": "stream",
     "text": [
      "Index(['State', 'Year', 'Type_code', 'Type', 'Gender', 'Age_group', 'Total'], dtype='object')\n"
     ]
    }
   ],
   "source": [
    "print(df.columns)"
   ]
  },
  {
   "cell_type": "code",
   "execution_count": 6,
   "id": "5406f6d1",
   "metadata": {},
   "outputs": [
    {
     "data": {
      "text/plain": [
       "2011    19806\n",
       "2005    19803\n",
       "2012    19799\n",
       "2001    19797\n",
       "2008    19797\n",
       "2007    19794\n",
       "2010    19792\n",
       "2002    19790\n",
       "2003    19786\n",
       "2006    19786\n",
       "2009    19786\n",
       "2004    19783\n",
       "Name: Year, dtype: int64"
      ]
     },
     "execution_count": 6,
     "metadata": {},
     "output_type": "execute_result"
    }
   ],
   "source": [
    "df['Year'].value_counts()"
   ]
  },
  {
   "cell_type": "markdown",
   "id": "0bfa5643",
   "metadata": {},
   "source": [
    "### check missing value "
   ]
  },
  {
   "cell_type": "code",
   "execution_count": 7,
   "id": "839d50a3",
   "metadata": {},
   "outputs": [
    {
     "name": "stdout",
     "output_type": "stream",
     "text": [
      "<class 'pandas.core.frame.DataFrame'>\n",
      "RangeIndex: 237519 entries, 0 to 237518\n",
      "Data columns (total 7 columns):\n",
      " #   Column     Non-Null Count   Dtype \n",
      "---  ------     --------------   ----- \n",
      " 0   State      237519 non-null  object\n",
      " 1   Year       237519 non-null  int64 \n",
      " 2   Type_code  237519 non-null  object\n",
      " 3   Type       237519 non-null  object\n",
      " 4   Gender     237519 non-null  object\n",
      " 5   Age_group  237519 non-null  object\n",
      " 6   Total      237519 non-null  int64 \n",
      "dtypes: int64(2), object(5)\n",
      "memory usage: 12.7+ MB\n"
     ]
    }
   ],
   "source": [
    "df.info()"
   ]
  },
  {
   "cell_type": "code",
   "execution_count": 8,
   "id": "96ef1683",
   "metadata": {},
   "outputs": [
    {
     "data": {
      "text/html": [
       "<div>\n",
       "<style scoped>\n",
       "    .dataframe tbody tr th:only-of-type {\n",
       "        vertical-align: middle;\n",
       "    }\n",
       "\n",
       "    .dataframe tbody tr th {\n",
       "        vertical-align: top;\n",
       "    }\n",
       "\n",
       "    .dataframe thead th {\n",
       "        text-align: right;\n",
       "    }\n",
       "</style>\n",
       "<table border=\"1\" class=\"dataframe\">\n",
       "  <thead>\n",
       "    <tr style=\"text-align: right;\">\n",
       "      <th></th>\n",
       "      <th>State</th>\n",
       "      <th>Year</th>\n",
       "      <th>Type_code</th>\n",
       "      <th>Type</th>\n",
       "      <th>Gender</th>\n",
       "      <th>Age_group</th>\n",
       "      <th>Total</th>\n",
       "    </tr>\n",
       "  </thead>\n",
       "  <tbody>\n",
       "    <tr>\n",
       "      <th>0</th>\n",
       "      <td>False</td>\n",
       "      <td>False</td>\n",
       "      <td>False</td>\n",
       "      <td>False</td>\n",
       "      <td>False</td>\n",
       "      <td>False</td>\n",
       "      <td>False</td>\n",
       "    </tr>\n",
       "    <tr>\n",
       "      <th>1</th>\n",
       "      <td>False</td>\n",
       "      <td>False</td>\n",
       "      <td>False</td>\n",
       "      <td>False</td>\n",
       "      <td>False</td>\n",
       "      <td>False</td>\n",
       "      <td>False</td>\n",
       "    </tr>\n",
       "    <tr>\n",
       "      <th>2</th>\n",
       "      <td>False</td>\n",
       "      <td>False</td>\n",
       "      <td>False</td>\n",
       "      <td>False</td>\n",
       "      <td>False</td>\n",
       "      <td>False</td>\n",
       "      <td>False</td>\n",
       "    </tr>\n",
       "    <tr>\n",
       "      <th>3</th>\n",
       "      <td>False</td>\n",
       "      <td>False</td>\n",
       "      <td>False</td>\n",
       "      <td>False</td>\n",
       "      <td>False</td>\n",
       "      <td>False</td>\n",
       "      <td>False</td>\n",
       "    </tr>\n",
       "    <tr>\n",
       "      <th>4</th>\n",
       "      <td>False</td>\n",
       "      <td>False</td>\n",
       "      <td>False</td>\n",
       "      <td>False</td>\n",
       "      <td>False</td>\n",
       "      <td>False</td>\n",
       "      <td>False</td>\n",
       "    </tr>\n",
       "    <tr>\n",
       "      <th>...</th>\n",
       "      <td>...</td>\n",
       "      <td>...</td>\n",
       "      <td>...</td>\n",
       "      <td>...</td>\n",
       "      <td>...</td>\n",
       "      <td>...</td>\n",
       "      <td>...</td>\n",
       "    </tr>\n",
       "    <tr>\n",
       "      <th>237514</th>\n",
       "      <td>False</td>\n",
       "      <td>False</td>\n",
       "      <td>False</td>\n",
       "      <td>False</td>\n",
       "      <td>False</td>\n",
       "      <td>False</td>\n",
       "      <td>False</td>\n",
       "    </tr>\n",
       "    <tr>\n",
       "      <th>237515</th>\n",
       "      <td>False</td>\n",
       "      <td>False</td>\n",
       "      <td>False</td>\n",
       "      <td>False</td>\n",
       "      <td>False</td>\n",
       "      <td>False</td>\n",
       "      <td>False</td>\n",
       "    </tr>\n",
       "    <tr>\n",
       "      <th>237516</th>\n",
       "      <td>False</td>\n",
       "      <td>False</td>\n",
       "      <td>False</td>\n",
       "      <td>False</td>\n",
       "      <td>False</td>\n",
       "      <td>False</td>\n",
       "      <td>False</td>\n",
       "    </tr>\n",
       "    <tr>\n",
       "      <th>237517</th>\n",
       "      <td>False</td>\n",
       "      <td>False</td>\n",
       "      <td>False</td>\n",
       "      <td>False</td>\n",
       "      <td>False</td>\n",
       "      <td>False</td>\n",
       "      <td>False</td>\n",
       "    </tr>\n",
       "    <tr>\n",
       "      <th>237518</th>\n",
       "      <td>False</td>\n",
       "      <td>False</td>\n",
       "      <td>False</td>\n",
       "      <td>False</td>\n",
       "      <td>False</td>\n",
       "      <td>False</td>\n",
       "      <td>False</td>\n",
       "    </tr>\n",
       "  </tbody>\n",
       "</table>\n",
       "<p>237519 rows × 7 columns</p>\n",
       "</div>"
      ],
      "text/plain": [
       "        State   Year  Type_code   Type  Gender  Age_group  Total\n",
       "0       False  False      False  False   False      False  False\n",
       "1       False  False      False  False   False      False  False\n",
       "2       False  False      False  False   False      False  False\n",
       "3       False  False      False  False   False      False  False\n",
       "4       False  False      False  False   False      False  False\n",
       "...       ...    ...        ...    ...     ...        ...    ...\n",
       "237514  False  False      False  False   False      False  False\n",
       "237515  False  False      False  False   False      False  False\n",
       "237516  False  False      False  False   False      False  False\n",
       "237517  False  False      False  False   False      False  False\n",
       "237518  False  False      False  False   False      False  False\n",
       "\n",
       "[237519 rows x 7 columns]"
      ]
     },
     "execution_count": 8,
     "metadata": {},
     "output_type": "execute_result"
    }
   ],
   "source": [
    "df.isnull()"
   ]
  },
  {
   "cell_type": "code",
   "execution_count": 9,
   "id": "90cca297",
   "metadata": {},
   "outputs": [
    {
     "data": {
      "text/plain": [
       "State        0\n",
       "Year         0\n",
       "Type_code    0\n",
       "Type         0\n",
       "Gender       0\n",
       "Age_group    0\n",
       "Total        0\n",
       "dtype: int64"
      ]
     },
     "execution_count": 9,
     "metadata": {},
     "output_type": "execute_result"
    }
   ],
   "source": [
    "df.isnull().sum()"
   ]
  },
  {
   "cell_type": "raw",
   "id": "8ffa89ba",
   "metadata": {},
   "source": [
    "their is no missing value in data"
   ]
  },
  {
   "cell_type": "markdown",
   "id": "8e73243b",
   "metadata": {},
   "source": [
    "### Total sucide in india"
   ]
  },
  {
   "cell_type": "code",
   "execution_count": 10,
   "id": "1d2f9b97",
   "metadata": {},
   "outputs": [
    {
     "data": {
      "text/plain": [
       "0            0\n",
       "1            0\n",
       "2            0\n",
       "3            0\n",
       "4            0\n",
       "          ... \n",
       "237514     149\n",
       "237515     233\n",
       "237516    5451\n",
       "237517     189\n",
       "237518    2658\n",
       "Name: Total, Length: 237519, dtype: int64"
      ]
     },
     "execution_count": 10,
     "metadata": {},
     "output_type": "execute_result"
    }
   ],
   "source": [
    "df['Total']"
   ]
  },
  {
   "cell_type": "code",
   "execution_count": 11,
   "id": "507394cd",
   "metadata": {},
   "outputs": [
    {
     "data": {
      "text/plain": [
       "0            0\n",
       "1            0\n",
       "2            0\n",
       "3            0\n",
       "4            0\n",
       "          ... \n",
       "237514     149\n",
       "237515     233\n",
       "237516    5451\n",
       "237517     189\n",
       "237518    2658\n",
       "Name: Total, Length: 237519, dtype: int64"
      ]
     },
     "execution_count": 11,
     "metadata": {},
     "output_type": "execute_result"
    }
   ],
   "source": [
    "df.Total"
   ]
  },
  {
   "cell_type": "code",
   "execution_count": 12,
   "id": "0b3baf37",
   "metadata": {},
   "outputs": [
    {
     "data": {
      "text/plain": [
       "0            0\n",
       "1            0\n",
       "2            0\n",
       "3            0\n",
       "4            0\n",
       "          ... \n",
       "237514     149\n",
       "237515     233\n",
       "237516    5451\n",
       "237517     189\n",
       "237518    2658\n",
       "Name: Total, Length: 237519, dtype: int64"
      ]
     },
     "execution_count": 12,
     "metadata": {},
     "output_type": "execute_result"
    }
   ],
   "source": [
    "df.iloc[:,6]"
   ]
  },
  {
   "cell_type": "code",
   "execution_count": 13,
   "id": "fe8ecf70",
   "metadata": {},
   "outputs": [
    {
     "data": {
      "text/plain": [
       "0            0\n",
       "1            0\n",
       "2            0\n",
       "3            0\n",
       "4            0\n",
       "          ... \n",
       "237514     149\n",
       "237515     233\n",
       "237516    5451\n",
       "237517     189\n",
       "237518    2658\n",
       "Name: Total, Length: 237519, dtype: int64"
      ]
     },
     "execution_count": 13,
     "metadata": {},
     "output_type": "execute_result"
    }
   ],
   "source": [
    "df.loc[:,'Total']"
   ]
  },
  {
   "cell_type": "code",
   "execution_count": 14,
   "id": "ed846b1b",
   "metadata": {},
   "outputs": [
    {
     "data": {
      "text/plain": [
       "13071734"
      ]
     },
     "execution_count": 14,
     "metadata": {},
     "output_type": "execute_result"
    }
   ],
   "source": [
    "df.Total.sum()"
   ]
  },
  {
   "cell_type": "markdown",
   "id": "6c6bc0c0",
   "metadata": {},
   "source": [
    "### Total  Sucides in india state wise "
   ]
  },
  {
   "cell_type": "code",
   "execution_count": 15,
   "id": "aab5934c",
   "metadata": {},
   "outputs": [
    {
     "data": {
      "text/plain": [
       "0         False\n",
       "1         False\n",
       "2         False\n",
       "3         False\n",
       "4         False\n",
       "          ...  \n",
       "237514     True\n",
       "237515     True\n",
       "237516     True\n",
       "237517     True\n",
       "237518     True\n",
       "Name: State, Length: 237519, dtype: bool"
      ]
     },
     "execution_count": 15,
     "metadata": {},
     "output_type": "execute_result"
    }
   ],
   "source": [
    "df['State']=='West Bengal'"
   ]
  },
  {
   "cell_type": "code",
   "execution_count": 16,
   "id": "bbed8071",
   "metadata": {},
   "outputs": [
    {
     "data": {
      "text/html": [
       "<div>\n",
       "<style scoped>\n",
       "    .dataframe tbody tr th:only-of-type {\n",
       "        vertical-align: middle;\n",
       "    }\n",
       "\n",
       "    .dataframe tbody tr th {\n",
       "        vertical-align: top;\n",
       "    }\n",
       "\n",
       "    .dataframe thead th {\n",
       "        text-align: right;\n",
       "    }\n",
       "</style>\n",
       "<table border=\"1\" class=\"dataframe\">\n",
       "  <thead>\n",
       "    <tr style=\"text-align: right;\">\n",
       "      <th></th>\n",
       "      <th>State</th>\n",
       "      <th>Year</th>\n",
       "      <th>Type_code</th>\n",
       "      <th>Type</th>\n",
       "      <th>Gender</th>\n",
       "      <th>Age_group</th>\n",
       "      <th>Total</th>\n",
       "    </tr>\n",
       "  </thead>\n",
       "  <tbody>\n",
       "    <tr>\n",
       "      <th>230739</th>\n",
       "      <td>West Bengal</td>\n",
       "      <td>2001</td>\n",
       "      <td>Causes</td>\n",
       "      <td>Physical Abuse (Rape/Incest Etc.)</td>\n",
       "      <td>Female</td>\n",
       "      <td>0-14</td>\n",
       "      <td>1</td>\n",
       "    </tr>\n",
       "    <tr>\n",
       "      <th>230740</th>\n",
       "      <td>West Bengal</td>\n",
       "      <td>2001</td>\n",
       "      <td>Causes</td>\n",
       "      <td>Bankruptcy or Sudden change in Economic</td>\n",
       "      <td>Female</td>\n",
       "      <td>0-14</td>\n",
       "      <td>0</td>\n",
       "    </tr>\n",
       "    <tr>\n",
       "      <th>230741</th>\n",
       "      <td>West Bengal</td>\n",
       "      <td>2001</td>\n",
       "      <td>Causes</td>\n",
       "      <td>Poverty</td>\n",
       "      <td>Female</td>\n",
       "      <td>0-14</td>\n",
       "      <td>0</td>\n",
       "    </tr>\n",
       "    <tr>\n",
       "      <th>230742</th>\n",
       "      <td>West Bengal</td>\n",
       "      <td>2001</td>\n",
       "      <td>Causes</td>\n",
       "      <td>Failure in Examination</td>\n",
       "      <td>Female</td>\n",
       "      <td>0-14</td>\n",
       "      <td>34</td>\n",
       "    </tr>\n",
       "    <tr>\n",
       "      <th>230743</th>\n",
       "      <td>West Bengal</td>\n",
       "      <td>2001</td>\n",
       "      <td>Causes</td>\n",
       "      <td>Paralysis</td>\n",
       "      <td>Female</td>\n",
       "      <td>0-14</td>\n",
       "      <td>0</td>\n",
       "    </tr>\n",
       "    <tr>\n",
       "      <th>...</th>\n",
       "      <td>...</td>\n",
       "      <td>...</td>\n",
       "      <td>...</td>\n",
       "      <td>...</td>\n",
       "      <td>...</td>\n",
       "      <td>...</td>\n",
       "      <td>...</td>\n",
       "    </tr>\n",
       "    <tr>\n",
       "      <th>237514</th>\n",
       "      <td>West Bengal</td>\n",
       "      <td>2012</td>\n",
       "      <td>Social_Status</td>\n",
       "      <td>Seperated</td>\n",
       "      <td>Male</td>\n",
       "      <td>0-100+</td>\n",
       "      <td>149</td>\n",
       "    </tr>\n",
       "    <tr>\n",
       "      <th>237515</th>\n",
       "      <td>West Bengal</td>\n",
       "      <td>2012</td>\n",
       "      <td>Social_Status</td>\n",
       "      <td>Widowed/Widower</td>\n",
       "      <td>Male</td>\n",
       "      <td>0-100+</td>\n",
       "      <td>233</td>\n",
       "    </tr>\n",
       "    <tr>\n",
       "      <th>237516</th>\n",
       "      <td>West Bengal</td>\n",
       "      <td>2012</td>\n",
       "      <td>Social_Status</td>\n",
       "      <td>Married</td>\n",
       "      <td>Male</td>\n",
       "      <td>0-100+</td>\n",
       "      <td>5451</td>\n",
       "    </tr>\n",
       "    <tr>\n",
       "      <th>237517</th>\n",
       "      <td>West Bengal</td>\n",
       "      <td>2012</td>\n",
       "      <td>Social_Status</td>\n",
       "      <td>Divorcee</td>\n",
       "      <td>Male</td>\n",
       "      <td>0-100+</td>\n",
       "      <td>189</td>\n",
       "    </tr>\n",
       "    <tr>\n",
       "      <th>237518</th>\n",
       "      <td>West Bengal</td>\n",
       "      <td>2012</td>\n",
       "      <td>Social_Status</td>\n",
       "      <td>Never Married</td>\n",
       "      <td>Male</td>\n",
       "      <td>0-100+</td>\n",
       "      <td>2658</td>\n",
       "    </tr>\n",
       "  </tbody>\n",
       "</table>\n",
       "<p>6780 rows × 7 columns</p>\n",
       "</div>"
      ],
      "text/plain": [
       "              State  Year      Type_code  \\\n",
       "230739  West Bengal  2001         Causes   \n",
       "230740  West Bengal  2001         Causes   \n",
       "230741  West Bengal  2001         Causes   \n",
       "230742  West Bengal  2001         Causes   \n",
       "230743  West Bengal  2001         Causes   \n",
       "...             ...   ...            ...   \n",
       "237514  West Bengal  2012  Social_Status   \n",
       "237515  West Bengal  2012  Social_Status   \n",
       "237516  West Bengal  2012  Social_Status   \n",
       "237517  West Bengal  2012  Social_Status   \n",
       "237518  West Bengal  2012  Social_Status   \n",
       "\n",
       "                                           Type  Gender Age_group  Total  \n",
       "230739        Physical Abuse (Rape/Incest Etc.)  Female      0-14      1  \n",
       "230740  Bankruptcy or Sudden change in Economic  Female      0-14      0  \n",
       "230741                                  Poverty  Female      0-14      0  \n",
       "230742                   Failure in Examination  Female      0-14     34  \n",
       "230743                                Paralysis  Female      0-14      0  \n",
       "...                                         ...     ...       ...    ...  \n",
       "237514                                Seperated    Male    0-100+    149  \n",
       "237515                          Widowed/Widower    Male    0-100+    233  \n",
       "237516                                  Married    Male    0-100+   5451  \n",
       "237517                                 Divorcee    Male    0-100+    189  \n",
       "237518                            Never Married    Male    0-100+   2658  \n",
       "\n",
       "[6780 rows x 7 columns]"
      ]
     },
     "execution_count": 16,
     "metadata": {},
     "output_type": "execute_result"
    }
   ],
   "source": [
    "index=df['State']=='West Bengal'\n",
    "df [index]"
   ]
  },
  {
   "cell_type": "code",
   "execution_count": 17,
   "id": "571273ab",
   "metadata": {},
   "outputs": [
    {
     "data": {
      "text/plain": [
       "849936"
      ]
     },
     "execution_count": 17,
     "metadata": {},
     "output_type": "execute_result"
    }
   ],
   "source": [
    "index=df['State']=='West Bengal'\n",
    "df [index].Total.sum()"
   ]
  },
  {
   "cell_type": "code",
   "execution_count": 18,
   "id": "641c1af3",
   "metadata": {},
   "outputs": [
    {
     "data": {
      "text/plain": [
       "State\n",
       "A & N Islands           8109\n",
       "Andhra Pradesh        814059\n",
       "Arunachal Pradesh       6633\n",
       "Assam                 172276\n",
       "Bihar                  46214\n",
       "Chandigarh              5164\n",
       "Chhattisgarh          302354\n",
       "D & N Haveli            3430\n",
       "Daman & Diu             1391\n",
       "Delhi (Ut)             84272\n",
       "Goa                    17363\n",
       "Gujarat               330858\n",
       "Haryana               147176\n",
       "Himachal Pradesh       26562\n",
       "Jammu & Kashmir        14821\n",
       "Jharkhand              49720\n",
       "Karnataka             734825\n",
       "Kerala                538946\n",
       "Lakshadweep               50\n",
       "Madhya Pradesh        451535\n",
       "Maharashtra           901945\n",
       "Manipur                 2102\n",
       "Meghalaya               5415\n",
       "Mizoram                 4154\n",
       "Nagaland                1728\n",
       "Odisha                267234\n",
       "Puducherry             32144\n",
       "Punjab                 46350\n",
       "Rajasthan             255134\n",
       "Sikkim                  9606\n",
       "Tamil Nadu            818691\n",
       "Total (All India)    2911862\n",
       "Total (States)       2858026\n",
       "Total (Uts)            53836\n",
       "Tripura                45965\n",
       "Uttar Pradesh         233352\n",
       "Uttarakhand            18496\n",
       "West Bengal           849936\n",
       "Name: Total, dtype: int64"
      ]
     },
     "execution_count": 18,
     "metadata": {},
     "output_type": "execute_result"
    }
   ],
   "source": [
    "df.groupby('State').Total.sum()"
   ]
  },
  {
   "cell_type": "code",
   "execution_count": 19,
   "id": "9b35b503",
   "metadata": {},
   "outputs": [
    {
     "data": {
      "text/plain": [
       "State\n",
       "Lakshadweep               50\n",
       "Daman & Diu             1391\n",
       "Nagaland                1728\n",
       "Manipur                 2102\n",
       "D & N Haveli            3430\n",
       "Mizoram                 4154\n",
       "Chandigarh              5164\n",
       "Meghalaya               5415\n",
       "Arunachal Pradesh       6633\n",
       "A & N Islands           8109\n",
       "Sikkim                  9606\n",
       "Jammu & Kashmir        14821\n",
       "Goa                    17363\n",
       "Uttarakhand            18496\n",
       "Himachal Pradesh       26562\n",
       "Puducherry             32144\n",
       "Tripura                45965\n",
       "Bihar                  46214\n",
       "Punjab                 46350\n",
       "Jharkhand              49720\n",
       "Total (Uts)            53836\n",
       "Delhi (Ut)             84272\n",
       "Haryana               147176\n",
       "Assam                 172276\n",
       "Uttar Pradesh         233352\n",
       "Rajasthan             255134\n",
       "Odisha                267234\n",
       "Chhattisgarh          302354\n",
       "Gujarat               330858\n",
       "Madhya Pradesh        451535\n",
       "Kerala                538946\n",
       "Karnataka             734825\n",
       "Andhra Pradesh        814059\n",
       "Tamil Nadu            818691\n",
       "West Bengal           849936\n",
       "Maharashtra           901945\n",
       "Total (States)       2858026\n",
       "Total (All India)    2911862\n",
       "Name: Total, dtype: int64"
      ]
     },
     "execution_count": 19,
     "metadata": {},
     "output_type": "execute_result"
    }
   ],
   "source": [
    "df.groupby('State').Total.sum().sort_values()"
   ]
  },
  {
   "cell_type": "code",
   "execution_count": 20,
   "id": "ba4c9e37",
   "metadata": {},
   "outputs": [
    {
     "data": {
      "text/plain": [
       "State\n",
       "Total (All India)    2911862\n",
       "Total (States)       2858026\n",
       "Maharashtra           901945\n",
       "West Bengal           849936\n",
       "Tamil Nadu            818691\n",
       "Andhra Pradesh        814059\n",
       "Karnataka             734825\n",
       "Kerala                538946\n",
       "Madhya Pradesh        451535\n",
       "Gujarat               330858\n",
       "Chhattisgarh          302354\n",
       "Odisha                267234\n",
       "Rajasthan             255134\n",
       "Uttar Pradesh         233352\n",
       "Assam                 172276\n",
       "Haryana               147176\n",
       "Delhi (Ut)             84272\n",
       "Total (Uts)            53836\n",
       "Jharkhand              49720\n",
       "Punjab                 46350\n",
       "Bihar                  46214\n",
       "Tripura                45965\n",
       "Puducherry             32144\n",
       "Himachal Pradesh       26562\n",
       "Uttarakhand            18496\n",
       "Goa                    17363\n",
       "Jammu & Kashmir        14821\n",
       "Sikkim                  9606\n",
       "A & N Islands           8109\n",
       "Arunachal Pradesh       6633\n",
       "Meghalaya               5415\n",
       "Chandigarh              5164\n",
       "Mizoram                 4154\n",
       "D & N Haveli            3430\n",
       "Manipur                 2102\n",
       "Nagaland                1728\n",
       "Daman & Diu             1391\n",
       "Lakshadweep               50\n",
       "Name: Total, dtype: int64"
      ]
     },
     "execution_count": 20,
     "metadata": {},
     "output_type": "execute_result"
    }
   ],
   "source": [
    "df.groupby('State').Total.sum().sort_values(ascending= False)"
   ]
  },
  {
   "cell_type": "markdown",
   "id": "25247f68",
   "metadata": {},
   "source": [
    "### Total  Sucides in india  year wise "
   ]
  },
  {
   "cell_type": "code",
   "execution_count": 21,
   "id": "12fca3ee",
   "metadata": {},
   "outputs": [
    {
     "data": {
      "text/plain": [
       "Year\n",
       "2001     976464\n",
       "2002     993648\n",
       "2003     997622\n",
       "2004    1023137\n",
       "2005    1025201\n",
       "2006    1062991\n",
       "2007    1103667\n",
       "2008    1125082\n",
       "2009    1144033\n",
       "2010    1211322\n",
       "2011    1219499\n",
       "2012    1189068\n",
       "Name: Total, dtype: int64"
      ]
     },
     "execution_count": 21,
     "metadata": {},
     "output_type": "execute_result"
    }
   ],
   "source": [
    "df.groupby('Year').Total.sum()"
   ]
  },
  {
   "cell_type": "code",
   "execution_count": 22,
   "id": "32b594d3",
   "metadata": {},
   "outputs": [
    {
     "data": {
      "text/plain": [
       "Year\n",
       "2001     976464\n",
       "2002     993648\n",
       "2003     997622\n",
       "2004    1023137\n",
       "2005    1025201\n",
       "2006    1062991\n",
       "2007    1103667\n",
       "2008    1125082\n",
       "2009    1144033\n",
       "2012    1189068\n",
       "2010    1211322\n",
       "2011    1219499\n",
       "Name: Total, dtype: int64"
      ]
     },
     "execution_count": 22,
     "metadata": {},
     "output_type": "execute_result"
    }
   ],
   "source": [
    "df.groupby('Year').Total.sum().sort_values(ascending= True)"
   ]
  },
  {
   "cell_type": "markdown",
   "id": "29f3791b",
   "metadata": {},
   "source": [
    "### Total  Sucides in india  year wise "
   ]
  },
  {
   "cell_type": "code",
   "execution_count": 23,
   "id": "f6a8fe8b",
   "metadata": {},
   "outputs": [
    {
     "data": {
      "text/plain": [
       "Gender\n",
       "Female    4702974\n",
       "Male      8368760\n",
       "Name: Total, dtype: int64"
      ]
     },
     "execution_count": 23,
     "metadata": {},
     "output_type": "execute_result"
    }
   ],
   "source": [
    "df.groupby('Gender').Total.sum()"
   ]
  },
  {
   "cell_type": "code",
   "execution_count": 24,
   "id": "75b239ce",
   "metadata": {},
   "outputs": [
    {
     "data": {
      "text/plain": [
       "Age_group\n",
       "0-14        98410\n",
       "60+        346925\n",
       "45-59      885177\n",
       "30-44     1471599\n",
       "15-29     1534037\n",
       "0-100+    8735586\n",
       "Name: Total, dtype: int64"
      ]
     },
     "execution_count": 24,
     "metadata": {},
     "output_type": "execute_result"
    }
   ],
   "source": [
    "df.groupby('Age_group').Total.sum().sort_values(ascending= True)"
   ]
  },
  {
   "cell_type": "code",
   "execution_count": 25,
   "id": "06e4807d",
   "metadata": {},
   "outputs": [
    {
     "data": {
      "text/plain": [
       "State          Year  Age_group\n",
       "A & N Islands  2001  0-100+        258\n",
       "                     0-14           12\n",
       "                     15-29         168\n",
       "                     30-44          96\n",
       "                     45-59          78\n",
       "                                  ... \n",
       "West Bengal    2012  0-14          424\n",
       "                     15-29        4842\n",
       "                     30-44        5545\n",
       "                     45-59        3095\n",
       "                     60+          1051\n",
       "Name: Total, Length: 2556, dtype: int64"
      ]
     },
     "execution_count": 25,
     "metadata": {},
     "output_type": "execute_result"
    }
   ],
   "source": [
    "df.groupby(['State','Year','Age_group']).Total.sum()"
   ]
  },
  {
   "cell_type": "code",
   "execution_count": 26,
   "id": "9b655bd0",
   "metadata": {},
   "outputs": [],
   "source": [
    "D=df.groupby('Year').Total.sum()"
   ]
  },
  {
   "cell_type": "code",
   "execution_count": 27,
   "id": "ae927ea2",
   "metadata": {},
   "outputs": [
    {
     "data": {
      "text/plain": [
       "Year\n",
       "2001     976464\n",
       "2002     993648\n",
       "2003     997622\n",
       "2004    1023137\n",
       "2005    1025201\n",
       "2006    1062991\n",
       "2007    1103667\n",
       "2008    1125082\n",
       "2009    1144033\n",
       "2010    1211322\n",
       "2011    1219499\n",
       "2012    1189068\n",
       "Name: Total, dtype: int64"
      ]
     },
     "execution_count": 27,
     "metadata": {},
     "output_type": "execute_result"
    }
   ],
   "source": [
    "D"
   ]
  },
  {
   "cell_type": "code",
   "execution_count": 28,
   "id": "8ebaeb61",
   "metadata": {},
   "outputs": [
    {
     "data": {
      "text/plain": [
       "array([2001, 2002, 2003, 2004, 2005, 2006, 2007, 2008, 2009, 2010, 2011,\n",
       "       2012], dtype=int64)"
      ]
     },
     "execution_count": 28,
     "metadata": {},
     "output_type": "execute_result"
    }
   ],
   "source": [
    "D.index.values"
   ]
  },
  {
   "cell_type": "code",
   "execution_count": 29,
   "id": "0caaaa33",
   "metadata": {},
   "outputs": [
    {
     "data": {
      "text/plain": [
       "array([ 976464,  993648,  997622, 1023137, 1025201, 1062991, 1103667,\n",
       "       1125082, 1144033, 1211322, 1219499, 1189068], dtype=int64)"
      ]
     },
     "execution_count": 29,
     "metadata": {},
     "output_type": "execute_result"
    }
   ],
   "source": [
    "D. values"
   ]
  },
  {
   "cell_type": "code",
   "execution_count": 30,
   "id": "ea93a1c4",
   "metadata": {},
   "outputs": [
    {
     "data": {
      "image/png": "[encoded data removed]",
      "text/plain": [
       "<Figure size 432x288 with 1 Axes>"
      ]
     },
     "metadata": {
      "needs_background": "light"
     },
     "output_type": "display_data"
    }
   ],
   "source": [
    "x=D.index.values\n",
    "y=D.values\n",
    "plt.scatter(x,y)\n",
    "plt.show()"
   ]
  },
  {
   "cell_type": "code",
   "execution_count": 31,
   "id": "7172876c",
   "metadata": {},
   "outputs": [
    {
     "data": {
      "text/plain": [
       "Gender\n",
       "Female    4702974\n",
       "Male      8368760\n",
       "Name: Total, dtype: int64"
      ]
     },
     "execution_count": 31,
     "metadata": {},
     "output_type": "execute_result"
    }
   ],
   "source": [
    "df.groupby('Gender').Total.sum()"
   ]
  },
  {
   "cell_type": "code",
   "execution_count": 32,
   "id": "32588308",
   "metadata": {},
   "outputs": [
    {
     "data": {
      "text/plain": [
       "State          Gender  Age_group  Year\n",
       "A & N Islands  Female  0-100+     2001     100\n",
       "                                  2002     106\n",
       "                                  2003      86\n",
       "                                  2004      82\n",
       "                                  2005     106\n",
       "                                          ... \n",
       "West Bengal    Male    60+        2008    1104\n",
       "                                  2009    1389\n",
       "                                  2010    1674\n",
       "                                  2011    2193\n",
       "                                  2012     665\n",
       "Name: Total, Length: 5112, dtype: int64"
      ]
     },
     "execution_count": 32,
     "metadata": {},
     "output_type": "execute_result"
    }
   ],
   "source": [
    "df.groupby(['State','Gender','Age_group','Year']).Total.sum()  ## series"
   ]
  },
  {
   "cell_type": "code",
   "execution_count": 33,
   "id": "99a04f8e",
   "metadata": {},
   "outputs": [
    {
     "data": {
      "text/html": [
       "<div>\n",
       "<style scoped>\n",
       "    .dataframe tbody tr th:only-of-type {\n",
       "        vertical-align: middle;\n",
       "    }\n",
       "\n",
       "    .dataframe tbody tr th {\n",
       "        vertical-align: top;\n",
       "    }\n",
       "\n",
       "    .dataframe thead th {\n",
       "        text-align: right;\n",
       "    }\n",
       "</style>\n",
       "<table border=\"1\" class=\"dataframe\">\n",
       "  <thead>\n",
       "    <tr style=\"text-align: right;\">\n",
       "      <th></th>\n",
       "      <th></th>\n",
       "      <th></th>\n",
       "      <th></th>\n",
       "      <th>Total</th>\n",
       "    </tr>\n",
       "    <tr>\n",
       "      <th>State</th>\n",
       "      <th>Gender</th>\n",
       "      <th>Age_group</th>\n",
       "      <th>Year</th>\n",
       "      <th></th>\n",
       "    </tr>\n",
       "  </thead>\n",
       "  <tbody>\n",
       "    <tr>\n",
       "      <th rowspan=\"5\" valign=\"top\">A &amp; N Islands</th>\n",
       "      <th rowspan=\"5\" valign=\"top\">Female</th>\n",
       "      <th rowspan=\"5\" valign=\"top\">0-100+</th>\n",
       "      <th>2001</th>\n",
       "      <td>100</td>\n",
       "    </tr>\n",
       "    <tr>\n",
       "      <th>2002</th>\n",
       "      <td>106</td>\n",
       "    </tr>\n",
       "    <tr>\n",
       "      <th>2003</th>\n",
       "      <td>86</td>\n",
       "    </tr>\n",
       "    <tr>\n",
       "      <th>2004</th>\n",
       "      <td>82</td>\n",
       "    </tr>\n",
       "    <tr>\n",
       "      <th>2005</th>\n",
       "      <td>106</td>\n",
       "    </tr>\n",
       "    <tr>\n",
       "      <th>...</th>\n",
       "      <th>...</th>\n",
       "      <th>...</th>\n",
       "      <th>...</th>\n",
       "      <td>...</td>\n",
       "    </tr>\n",
       "    <tr>\n",
       "      <th rowspan=\"5\" valign=\"top\">West Bengal</th>\n",
       "      <th rowspan=\"5\" valign=\"top\">Male</th>\n",
       "      <th rowspan=\"5\" valign=\"top\">60+</th>\n",
       "      <th>2008</th>\n",
       "      <td>1104</td>\n",
       "    </tr>\n",
       "    <tr>\n",
       "      <th>2009</th>\n",
       "      <td>1389</td>\n",
       "    </tr>\n",
       "    <tr>\n",
       "      <th>2010</th>\n",
       "      <td>1674</td>\n",
       "    </tr>\n",
       "    <tr>\n",
       "      <th>2011</th>\n",
       "      <td>2193</td>\n",
       "    </tr>\n",
       "    <tr>\n",
       "      <th>2012</th>\n",
       "      <td>665</td>\n",
       "    </tr>\n",
       "  </tbody>\n",
       "</table>\n",
       "<p>5112 rows × 1 columns</p>\n",
       "</div>"
      ],
      "text/plain": [
       "                                     Total\n",
       "State         Gender Age_group Year       \n",
       "A & N Islands Female 0-100+    2001    100\n",
       "                               2002    106\n",
       "                               2003     86\n",
       "                               2004     82\n",
       "                               2005    106\n",
       "...                                    ...\n",
       "West Bengal   Male   60+       2008   1104\n",
       "                               2009   1389\n",
       "                               2010   1674\n",
       "                               2011   2193\n",
       "                               2012    665\n",
       "\n",
       "[5112 rows x 1 columns]"
      ]
     },
     "execution_count": 33,
     "metadata": {},
     "output_type": "execute_result"
    }
   ],
   "source": [
    "df.groupby(['State','Gender','Age_group','Year'])[['Total']].sum()  ## dataframe"
   ]
  },
  {
   "cell_type": "code",
   "execution_count": 34,
   "id": "351a6e5d",
   "metadata": {},
   "outputs": [],
   "source": [
    "df.groupby(['State','Gender','Age_group','Year'])[['Total']].sum().to_html(\"kp.html\") ## convert html"
   ]
  },
  {
   "cell_type": "markdown",
   "id": "6c6ea5b9",
   "metadata": {},
   "source": [
    "## machine learning "
   ]
  },
  {
   "cell_type": "code",
   "execution_count": 35,
   "id": "d40f69c9",
   "metadata": {},
   "outputs": [],
   "source": [
    "D=df.groupby(\"Year\").Total.sum()"
   ]
  },
  {
   "cell_type": "code",
   "execution_count": 36,
   "id": "aee84b84",
   "metadata": {},
   "outputs": [
    {
     "data": {
      "text/plain": [
       "array([2001, 2002, 2003, 2004, 2005, 2006, 2007, 2008, 2009, 2010, 2011,\n",
       "       2012], dtype=int64)"
      ]
     },
     "execution_count": 36,
     "metadata": {},
     "output_type": "execute_result"
    }
   ],
   "source": [
    "D.index.values"
   ]
  },
  {
   "cell_type": "code",
   "execution_count": 37,
   "id": "5f675924",
   "metadata": {},
   "outputs": [
    {
     "data": {
      "text/plain": [
       "2001    1\n",
       "2002    1\n",
       "2003    1\n",
       "2004    1\n",
       "2005    1\n",
       "2006    1\n",
       "2007    1\n",
       "2008    1\n",
       "2009    1\n",
       "2010    1\n",
       "2011    1\n",
       "2012    1\n",
       "Name: Year, dtype: int64"
      ]
     },
     "execution_count": 37,
     "metadata": {},
     "output_type": "execute_result"
    }
   ],
   "source": [
    "D.index.value_counts()"
   ]
  },
  {
   "cell_type": "code",
   "execution_count": 71,
   "id": "b44ff321",
   "metadata": {},
   "outputs": [],
   "source": [
    "x=D.index.values.reshape(-1,1)"
   ]
  },
  {
   "cell_type": "code",
   "execution_count": 72,
   "id": "522bd24a",
   "metadata": {},
   "outputs": [
    {
     "data": {
      "text/plain": [
       "array([[2001],\n",
       "       [2002],\n",
       "       [2003],\n",
       "       [2004],\n",
       "       [2005],\n",
       "       [2006],\n",
       "       [2007],\n",
       "       [2008],\n",
       "       [2009],\n",
       "       [2010],\n",
       "       [2011],\n",
       "       [2012]], dtype=int64)"
      ]
     },
     "execution_count": 72,
     "metadata": {},
     "output_type": "execute_result"
    }
   ],
   "source": [
    "x"
   ]
  },
  {
   "cell_type": "code",
   "execution_count": 40,
   "id": "a33f991d",
   "metadata": {},
   "outputs": [],
   "source": [
    "y=D.values"
   ]
  },
  {
   "cell_type": "code",
   "execution_count": 73,
   "id": "760d291a",
   "metadata": {},
   "outputs": [
    {
     "data": {
      "text/plain": [
       "array([ 976464,  993648,  997622, 1023137, 1025201, 1062991, 1103667,\n",
       "       1125082, 1144033, 1211322, 1219499, 1189068], dtype=int64)"
      ]
     },
     "execution_count": 73,
     "metadata": {},
     "output_type": "execute_result"
    }
   ],
   "source": [
    "y"
   ]
  },
  {
   "cell_type": "code",
   "execution_count": 74,
   "id": "8a965e5b",
   "metadata": {},
   "outputs": [
    {
     "data": {
      "image/png": "[encoded data removed]",
      "text/plain": [
       "<Figure size 432x288 with 1 Axes>"
      ]
     },
     "metadata": {
      "needs_background": "light"
     },
     "output_type": "display_data"
    }
   ],
   "source": [
    "plt.scatter(x,y)\n",
    "plt.xlabel('year')\n",
    "plt.ylabel('no.of suside')\n",
    "plt.show()"
   ]
  },
  {
   "cell_type": "code",
   "execution_count": 75,
   "id": "d5128c7b",
   "metadata": {},
   "outputs": [
    {
     "data": {
      "text/plain": [
       "LinearRegression()"
      ]
     },
     "execution_count": 75,
     "metadata": {},
     "output_type": "execute_result"
    }
   ],
   "source": [
    "from sklearn.linear_model import LinearRegression\n",
    "reg=LinearRegression()\n",
    "reg.fit(x,y)"
   ]
  },
  {
   "cell_type": "code",
   "execution_count": 76,
   "id": "660019e8",
   "metadata": {},
   "outputs": [
    {
     "data": {
      "text/plain": [
       "array([23818.18881119])"
      ]
     },
     "execution_count": 76,
     "metadata": {},
     "output_type": "execute_result"
    }
   ],
   "source": [
    "reg.coef_  ###show the slope  m ----- y=mx+c"
   ]
  },
  {
   "cell_type": "code",
   "execution_count": 77,
   "id": "ef03fb7d",
   "metadata": {},
   "outputs": [
    {
     "data": {
      "text/plain": [
       "-46701884.682983674"
      ]
     },
     "execution_count": 77,
     "metadata": {},
     "output_type": "execute_result"
    }
   ],
   "source": [
    "reg.intercept_   ### show the intercept  c"
   ]
  },
  {
   "cell_type": "code",
   "execution_count": 78,
   "id": "895f7355",
   "metadata": {},
   "outputs": [
    {
     "data": {
      "text/plain": [
       "array([ 976464,  993648,  997622, 1023137, 1025201, 1062991, 1103667,\n",
       "       1125082, 1144033, 1211322, 1219499, 1189068], dtype=int64)"
      ]
     },
     "execution_count": 78,
     "metadata": {},
     "output_type": "execute_result"
    }
   ],
   "source": [
    "y"
   ]
  },
  {
   "cell_type": "code",
   "execution_count": 79,
   "id": "705a9a75",
   "metadata": {},
   "outputs": [
    {
     "data": {
      "text/plain": [
       "array([ 958311.12820512,  982129.31701631, 1005947.5058275 ,\n",
       "       1029765.69463869, 1053583.88344987, 1077402.07226107,\n",
       "       1101220.26107226, 1125038.44988345, 1148856.63869463,\n",
       "       1172674.82750582, 1196493.01631701, 1220311.2051282 ])"
      ]
     },
     "execution_count": 79,
     "metadata": {},
     "output_type": "execute_result"
    }
   ],
   "source": [
    "Yp=reg.predict(x)\n",
    "Yp"
   ]
  },
  {
   "cell_type": "code",
   "execution_count": 80,
   "id": "9c9fd72d",
   "metadata": {},
   "outputs": [
    {
     "data": {
      "image/png": "[encoded data removed]",
      "text/plain": [
       "<Figure size 432x288 with 1 Axes>"
      ]
     },
     "metadata": {
      "needs_background": "light"
     },
     "output_type": "display_data"
    }
   ],
   "source": [
    "plt.scatter(x,y)\n",
    "plt.plot(x,Yp)\n",
    "plt.show()"
   ]
  },
  {
   "cell_type": "code",
   "execution_count": 81,
   "id": "6bbbb3cd",
   "metadata": {},
   "outputs": [
    {
     "data": {
      "text/plain": [
       "94.61522633937145"
      ]
     },
     "execution_count": 81,
     "metadata": {},
     "output_type": "execute_result"
    }
   ],
   "source": [
    "reg.score(x,y) *100 ## check  the auraccy hench multiply 100"
   ]
  },
  {
   "cell_type": "code",
   "execution_count": 50,
   "id": "0a9e678d",
   "metadata": {},
   "outputs": [
    {
     "data": {
      "text/plain": [
       "array([1410856.71561771])"
      ]
     },
     "execution_count": 50,
     "metadata": {},
     "output_type": "execute_result"
    }
   ],
   "source": [
    "reg.predict([[2020]])"
   ]
  },
  {
   "cell_type": "markdown",
   "id": "a3d24804",
   "metadata": {},
   "source": [
    "# polynomial regression"
   ]
  },
  {
   "cell_type": "code",
   "execution_count": 83,
   "id": "dcff7425",
   "metadata": {},
   "outputs": [
    {
     "data": {
      "text/plain": [
       "array([[2001],\n",
       "       [2002],\n",
       "       [2003],\n",
       "       [2004],\n",
       "       [2005],\n",
       "       [2006],\n",
       "       [2007],\n",
       "       [2008],\n",
       "       [2009],\n",
       "       [2010],\n",
       "       [2011],\n",
       "       [2012]], dtype=int64)"
      ]
     },
     "execution_count": 83,
     "metadata": {},
     "output_type": "execute_result"
    }
   ],
   "source": [
    "x"
   ]
  },
  {
   "cell_type": "code",
   "execution_count": 84,
   "id": "a433c0c9",
   "metadata": {},
   "outputs": [
    {
     "data": {
      "text/plain": [
       "array([ 976464,  993648,  997622, 1023137, 1025201, 1062991, 1103667,\n",
       "       1125082, 1144033, 1211322, 1219499, 1189068], dtype=int64)"
      ]
     },
     "execution_count": 84,
     "metadata": {},
     "output_type": "execute_result"
    }
   ],
   "source": [
    "y"
   ]
  },
  {
   "cell_type": "code",
   "execution_count": 94,
   "id": "317950f5",
   "metadata": {},
   "outputs": [
    {
     "data": {
      "text/html": [
       "<div>\n",
       "<style scoped>\n",
       "    .dataframe tbody tr th:only-of-type {\n",
       "        vertical-align: middle;\n",
       "    }\n",
       "\n",
       "    .dataframe tbody tr th {\n",
       "        vertical-align: top;\n",
       "    }\n",
       "\n",
       "    .dataframe thead th {\n",
       "        text-align: right;\n",
       "    }\n",
       "</style>\n",
       "<table border=\"1\" class=\"dataframe\">\n",
       "  <thead>\n",
       "    <tr style=\"text-align: right;\">\n",
       "      <th></th>\n",
       "      <th>0</th>\n",
       "      <th>1</th>\n",
       "      <th>2</th>\n",
       "      <th>3</th>\n",
       "      <th>4</th>\n",
       "      <th>5</th>\n",
       "    </tr>\n",
       "  </thead>\n",
       "  <tbody>\n",
       "    <tr>\n",
       "      <th>0</th>\n",
       "      <td>1.0</td>\n",
       "      <td>2001.0</td>\n",
       "      <td>4004001.0</td>\n",
       "      <td>8.012006e+09</td>\n",
       "      <td>1.603202e+13</td>\n",
       "      <td>3.208008e+16</td>\n",
       "    </tr>\n",
       "    <tr>\n",
       "      <th>1</th>\n",
       "      <td>1.0</td>\n",
       "      <td>2002.0</td>\n",
       "      <td>4008004.0</td>\n",
       "      <td>8.024024e+09</td>\n",
       "      <td>1.606410e+13</td>\n",
       "      <td>3.216032e+16</td>\n",
       "    </tr>\n",
       "    <tr>\n",
       "      <th>2</th>\n",
       "      <td>1.0</td>\n",
       "      <td>2003.0</td>\n",
       "      <td>4012009.0</td>\n",
       "      <td>8.036054e+09</td>\n",
       "      <td>1.609622e+13</td>\n",
       "      <td>3.224072e+16</td>\n",
       "    </tr>\n",
       "    <tr>\n",
       "      <th>3</th>\n",
       "      <td>1.0</td>\n",
       "      <td>2004.0</td>\n",
       "      <td>4016016.0</td>\n",
       "      <td>8.048096e+09</td>\n",
       "      <td>1.612838e+13</td>\n",
       "      <td>3.232128e+16</td>\n",
       "    </tr>\n",
       "    <tr>\n",
       "      <th>4</th>\n",
       "      <td>1.0</td>\n",
       "      <td>2005.0</td>\n",
       "      <td>4020025.0</td>\n",
       "      <td>8.060150e+09</td>\n",
       "      <td>1.616060e+13</td>\n",
       "      <td>3.240201e+16</td>\n",
       "    </tr>\n",
       "    <tr>\n",
       "      <th>5</th>\n",
       "      <td>1.0</td>\n",
       "      <td>2006.0</td>\n",
       "      <td>4024036.0</td>\n",
       "      <td>8.072216e+09</td>\n",
       "      <td>1.619287e+13</td>\n",
       "      <td>3.248289e+16</td>\n",
       "    </tr>\n",
       "    <tr>\n",
       "      <th>6</th>\n",
       "      <td>1.0</td>\n",
       "      <td>2007.0</td>\n",
       "      <td>4028049.0</td>\n",
       "      <td>8.084294e+09</td>\n",
       "      <td>1.622518e+13</td>\n",
       "      <td>3.256393e+16</td>\n",
       "    </tr>\n",
       "    <tr>\n",
       "      <th>7</th>\n",
       "      <td>1.0</td>\n",
       "      <td>2008.0</td>\n",
       "      <td>4032064.0</td>\n",
       "      <td>8.096385e+09</td>\n",
       "      <td>1.625754e+13</td>\n",
       "      <td>3.264514e+16</td>\n",
       "    </tr>\n",
       "    <tr>\n",
       "      <th>8</th>\n",
       "      <td>1.0</td>\n",
       "      <td>2009.0</td>\n",
       "      <td>4036081.0</td>\n",
       "      <td>8.108487e+09</td>\n",
       "      <td>1.628995e+13</td>\n",
       "      <td>3.272651e+16</td>\n",
       "    </tr>\n",
       "    <tr>\n",
       "      <th>9</th>\n",
       "      <td>1.0</td>\n",
       "      <td>2010.0</td>\n",
       "      <td>4040100.0</td>\n",
       "      <td>8.120601e+09</td>\n",
       "      <td>1.632241e+13</td>\n",
       "      <td>3.280804e+16</td>\n",
       "    </tr>\n",
       "    <tr>\n",
       "      <th>10</th>\n",
       "      <td>1.0</td>\n",
       "      <td>2011.0</td>\n",
       "      <td>4044121.0</td>\n",
       "      <td>8.132727e+09</td>\n",
       "      <td>1.635491e+13</td>\n",
       "      <td>3.288973e+16</td>\n",
       "    </tr>\n",
       "    <tr>\n",
       "      <th>11</th>\n",
       "      <td>1.0</td>\n",
       "      <td>2012.0</td>\n",
       "      <td>4048144.0</td>\n",
       "      <td>8.144866e+09</td>\n",
       "      <td>1.638747e+13</td>\n",
       "      <td>3.297159e+16</td>\n",
       "    </tr>\n",
       "  </tbody>\n",
       "</table>\n",
       "</div>"
      ],
      "text/plain": [
       "      0       1          2             3             4             5\n",
       "0   1.0  2001.0  4004001.0  8.012006e+09  1.603202e+13  3.208008e+16\n",
       "1   1.0  2002.0  4008004.0  8.024024e+09  1.606410e+13  3.216032e+16\n",
       "2   1.0  2003.0  4012009.0  8.036054e+09  1.609622e+13  3.224072e+16\n",
       "3   1.0  2004.0  4016016.0  8.048096e+09  1.612838e+13  3.232128e+16\n",
       "4   1.0  2005.0  4020025.0  8.060150e+09  1.616060e+13  3.240201e+16\n",
       "5   1.0  2006.0  4024036.0  8.072216e+09  1.619287e+13  3.248289e+16\n",
       "6   1.0  2007.0  4028049.0  8.084294e+09  1.622518e+13  3.256393e+16\n",
       "7   1.0  2008.0  4032064.0  8.096385e+09  1.625754e+13  3.264514e+16\n",
       "8   1.0  2009.0  4036081.0  8.108487e+09  1.628995e+13  3.272651e+16\n",
       "9   1.0  2010.0  4040100.0  8.120601e+09  1.632241e+13  3.280804e+16\n",
       "10  1.0  2011.0  4044121.0  8.132727e+09  1.635491e+13  3.288973e+16\n",
       "11  1.0  2012.0  4048144.0  8.144866e+09  1.638747e+13  3.297159e+16"
      ]
     },
     "execution_count": 94,
     "metadata": {},
     "output_type": "execute_result"
    }
   ],
   "source": [
    "from sklearn.preprocessing import PolynomialFeatures \n",
    "poly=PolynomialFeatures (degree=5)\n",
    "A=poly.fit_transform(x)\n",
    "pd.DataFrame(A)  ### MAKE A DATAFRAME"
   ]
  },
  {
   "cell_type": "code",
   "execution_count": 95,
   "id": "afa8cdf6",
   "metadata": {},
   "outputs": [
    {
     "data": {
      "text/plain": [
       "LinearRegression()"
      ]
     },
     "execution_count": 95,
     "metadata": {},
     "output_type": "execute_result"
    }
   ],
   "source": [
    "from sklearn.linear_model import LinearRegression\n",
    "reg=LinearRegression()\n",
    "reg.fit(A,Y)"
   ]
  },
  {
   "cell_type": "code",
   "execution_count": 96,
   "id": "a64b256a",
   "metadata": {},
   "outputs": [
    {
     "data": {
      "text/plain": [
       "array([ 0.00000000e+00, -1.35670354e-01, -4.33987162e-01, -4.35396980e+02,\n",
       "        3.25443039e-01, -6.48679853e-05])"
      ]
     },
     "execution_count": 96,
     "metadata": {},
     "output_type": "execute_result"
    }
   ],
   "source": [
    "reg.coef_"
   ]
  },
  {
   "cell_type": "code",
   "execution_count": 97,
   "id": "4b5bd555",
   "metadata": {},
   "outputs": [
    {
     "data": {
      "text/plain": [
       "351865484699.4616"
      ]
     },
     "execution_count": 97,
     "metadata": {},
     "output_type": "execute_result"
    }
   ],
   "source": [
    "reg.intercept_  "
   ]
  },
  {
   "cell_type": "code",
   "execution_count": 98,
   "id": "aa9a0468",
   "metadata": {},
   "outputs": [
    {
     "data": {
      "text/plain": [
       "array([ 976464,  993648,  997622, 1023137, 1025201, 1062991, 1103667,\n",
       "       1125082, 1144033, 1211322, 1219499, 1189068], dtype=int64)"
      ]
     },
     "execution_count": 98,
     "metadata": {},
     "output_type": "execute_result"
    }
   ],
   "source": [
    "y"
   ]
  },
  {
   "cell_type": "code",
   "execution_count": 101,
   "id": "47a1114b",
   "metadata": {},
   "outputs": [
    {
     "data": {
      "text/plain": [
       "array([ 987173.25848389,  983550.11981201,  992415.54119873,\n",
       "       1011190.67352295, 1037288.88299561, 1068115.74725342,\n",
       "       1101069.04852295, 1133538.76287842, 1162907.05682373,\n",
       "       1186548.27313232, 1201828.93133545, 1206107.71356201])"
      ]
     },
     "execution_count": 101,
     "metadata": {},
     "output_type": "execute_result"
    }
   ],
   "source": [
    "Yp=reg.predict(A)\n",
    "Yp"
   ]
  },
  {
   "cell_type": "code",
   "execution_count": 102,
   "id": "b77dd844",
   "metadata": {},
   "outputs": [
    {
     "data": {
      "image/png": "[encoded data removed]",
      "text/plain": [
       "<Figure size 432x288 with 1 Axes>"
      ]
     },
     "metadata": {
      "needs_background": "light"
     },
     "output_type": "display_data"
    }
   ],
   "source": [
    "plt.scatter(x,y)\n",
    "plt.plot(x,Yp)\n",
    "plt.show()"
   ]
  },
  {
   "cell_type": "code",
   "execution_count": 104,
   "id": "ab76575d",
   "metadata": {},
   "outputs": [
    {
     "data": {
      "text/plain": [
       "97.42287328633738"
      ]
     },
     "execution_count": 104,
     "metadata": {},
     "output_type": "execute_result"
    }
   ],
   "source": [
    "reg.score(A,y) *100"
   ]
  },
  {
   "cell_type": "code",
   "execution_count": 107,
   "id": "410d071c",
   "metadata": {},
   "outputs": [],
   "source": [
    "value=poly.transform([[2020]])"
   ]
  },
  {
   "cell_type": "code",
   "execution_count": 108,
   "id": "d630efb4",
   "metadata": {},
   "outputs": [
    {
     "data": {
      "text/plain": [
       "array([[1.00000000e+00, 2.02000000e+03, 4.08040000e+06, 8.24240800e+09,\n",
       "        1.66496642e+13, 3.36323216e+16]])"
      ]
     },
     "execution_count": 108,
     "metadata": {},
     "output_type": "execute_result"
    }
   ],
   "source": [
    "value"
   ]
  },
  {
   "cell_type": "code",
   "execution_count": 109,
   "id": "49094331",
   "metadata": {},
   "outputs": [
    {
     "data": {
      "text/plain": [
       "array([524720.30780029])"
      ]
     },
     "execution_count": 109,
     "metadata": {},
     "output_type": "execute_result"
    }
   ],
   "source": [
    "reg.predict(value)"
   ]
  },
  {
   "cell_type": "code",
   "execution_count": null,
   "id": "a12a1f01",
   "metadata": {},
   "outputs": [],
   "source": []
  }
 ],
 "metadata": {
  "kernelspec": {
   "display_name": "Python 3",
   "language": "python",
   "name": "python3"
  },
  "language_info": {
   "codemirror_mode": {
    "name": "ipython",
    "version": 3
   },
   "file_extension": ".py",
   "mimetype": "text/x-python",
   "name": "python",
   "nbconvert_exporter": "python",
   "pygments_lexer": "ipython3",
   "version": "3.8.8"
  }
 },
 "nbformat": 4,
 "nbformat_minor": 5
}
